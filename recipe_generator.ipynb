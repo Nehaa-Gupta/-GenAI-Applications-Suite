{
 "cells": [
  {
   "cell_type": "code",
   "execution_count": null,
   "id": "9eebb6b1",
   "metadata": {},
   "outputs": [],
   "source": [
    "from boltiotai import openai"
   ]
  },
  {
   "cell_type": "code",
   "execution_count": null,
   "id": "a7dc5116",
   "metadata": {},
   "outputs": [],
   "source": [
    "import os"
   ]
  },
  {
   "cell_type": "code",
   "execution_count": null,
   "id": "48b4bd0a",
   "metadata": {},
   "outputs": [],
   "source": [
    "from flask import Flask, render_template_string, request"
   ]
  },
  {
   "cell_type": "code",
   "execution_count": null,
   "id": "b9687b6f",
   "metadata": {},
   "outputs": [],
   "source": [
    "openai.api_key = os.environ['OPENAI_API_KEY']"
   ]
  },
  {
   "cell_type": "code",
   "execution_count": null,
   "id": "249409a3",
   "metadata": {},
   "outputs": [],
   "source": [
    "def generate_tutorial(components):\n",
    "\n",
    " response = openai.chat.completions.create(\n",
    "  model=\"gpt-3.5-turbo\",\n",
    "  messages=[{\n",
    "   \"role\": \"system\",\n",
    "   \"content\": \"You are a helpful assistant\"\n",
    "  }, {\n",
    "   \"role\":\n",
    "   \"user\",\n",
    "   \"content\":\n",
    "   f\"Suggest a recipe using the items listed as available. Make sure you have a nice name for this recipe listed at the start. Also, include a funny version of the name of the recipe on the following line. Then share the recipe in a step-by-step manner. In the end, write a fun fact about the recipe or any of the items used in the recipe. Here are the items available: {components}, Haldi, Chilly Powder, Tomato Ketchup, Water, Garam Masala, Oil\"\n",
    "  }])\n",
    " return response['choices'][0]['message']['content']\n"
   ]
  },
  {
   "cell_type": "code",
   "execution_count": null,
   "id": "a044ac55",
   "metadata": {},
   "outputs": [],
   "source": [
    "\n",
    "app = Flask(__name__)\n",
    "\n",
    "@app.route('/', methods=['GET', 'POST'])"
   ]
  },
  {
   "cell_type": "code",
   "execution_count": null,
   "id": "b4421326",
   "metadata": {
    "vscode": {
     "languageId": "html"
    }
   },
   "outputs": [],
   "source": [
    "def hello():\n",
    " output = \"\"\n",
    " if request.method == 'POST':\n",
    "  components = request.form['components']\n",
    "  output = generate_tutorial(components)\n",
    "# This is a HTML template for a Custom Recipe Generator web page. It includes a form for users to input a list of ingredients/items they have, and two JavaScript functions for generating a recipe based on the input and copying the output to the clipboard. The template uses the Bootstrap CSS framework for styling.\n",
    " return render_template_string('''\n",
    "\n",
    " <!DOCTYPE html >\n",
    " <html >\n",
    " <head >\n",
    "  <title >Infinite Project Generator </title >\n",
    "  <link href=\"https://cdn.jsdelivr.net/npm/bootstrap@5.3.0-alpha1/dist/css/bootstrap.min.css\"\n",
    "    rel=\"stylesheet\">\n",
    "  <script >\n",
    "\n",
    "  async function generateTutorial() {\n",
    "   const components = document.querySelector('#components').value;\n",
    "   const output = document.querySelector('#output');\n",
    "   output.textContent = 'Cooking a recipe for you...';\n",
    "   const response = await fetch('/generate', {\n",
    "    method: 'POST',\n",
    "    body: new FormData(document.querySelector('#tutorial-form'))\n",
    "   });\n",
    "   const newOutput = await response.text();\n",
    "   output.textContent = newOutput;\n",
    "  }\n",
    "  function copyToClipboard() {\n",
    "   const output = document.querySelector('#output');\n",
    "   const textarea = document.createElement('textarea');\n",
    "   textarea.value = output.textContent;\n",
    "   document.body.appendChild(textarea);\n",
    "   textarea.select();\n",
    "   document.execCommand('copy');\n",
    "   document.body.removeChild(textarea);\n",
    "   alert('Copied to clipboard');\n",
    "  }\n",
    "\n",
    "  </script >\n",
    " </head >\n",
    " <body >\n",
    "  <div class=\"container\">\n",
    "   <h1 class=\"my-4\">Custom Recipe Tutorial Generator </h1 >\n",
    "   <form id=\"tutorial-form\" onsubmit=\"event.preventDefault(); generateTutorial();\" class=\"mb-3\">\n",
    "    <div class=\"mb-3\">\n",
    "     <label for=\"components\" class=\"form-label\">Ingredients / Items:</label >\n",
    "     <input type=\"text\" class=\"form-control\" id=\"components\" name=\"components\" placeholder=\"Enter the list of Ingredients or items you have e.g. Bread, jam, potato etc. \" required >\n",
    "    </div >\n",
    "    <button type=\"submit\" class=\"btn btn-primary\">Share with me a tutorial </button >\n",
    "   </form >\n",
    "   <div class=\"card\">\n",
    "    <div class=\"card-header d-flex justify-content-between align-items-center\">\n",
    "     Output:\n",
    "     <button class=\"btn btn-secondary btn-sm\" onclick=\"copyToClipboard()\">Copy </button >\n",
    "    </div >\n",
    "    <div class=\"card-body\">\n",
    "     <pre id=\"output\" class=\"mb-0\" style=\"white-space: pre-wrap;\">{{ output }}</pre >\n",
    "    </div >\n",
    "   </div >\n",
    "  </div >\n",
    " </body >\n",
    " </html >\n",
    "\n",
    "\n",
    " ''',\n",
    "                output=output)\n",
    "           \n",
    "# This code defines a route for the URL \"/generate\" that only accepts POST requests.\n",
    "\n",
    "@app.route('/generate', methods=['POST'])\n",
    "# This code defines a function 'generate' that takes a POST request containing a 'components' field and returns the result of calling the 'generate_tutorial' function with the provided components as input.\n",
    "\n",
    "def generate():\n",
    " components = request.form['components']\n",
    " return generate_tutorial(components)\n",
    "\n",
    "# This code snippet starts the Flask application if the script is being run directly as the main program, running on the IP address '0.0.0.0' and port number 8080.\n",
    "\n",
    "if __name__ == '__main__':\n",
    " app.run(host='0.0.0.0', port=8080)\n",
    "\n"
   ]
  },
  {
   "cell_type": "code",
   "execution_count": null,
   "id": "cee019e7",
   "metadata": {},
   "outputs": [],
   "source": []
  },
  {
   "cell_type": "code",
   "execution_count": null,
   "id": "4c22ac5e",
   "metadata": {},
   "outputs": [],
   "source": []
  },
  {
   "cell_type": "code",
   "execution_count": null,
   "id": "a659c12f",
   "metadata": {},
   "outputs": [],
   "source": []
  }
 ],
 "metadata": {
  "kernelspec": {
   "display_name": "base",
   "language": "python",
   "name": "python3"
  },
  "language_info": {
   "codemirror_mode": {
    "name": "ipython",
    "version": 3
   },
   "file_extension": ".py",
   "mimetype": "text/x-python",
   "name": "python",
   "nbconvert_exporter": "python",
   "pygments_lexer": "ipython3",
   "version": "3.12.4"
  }
 },
 "nbformat": 4,
 "nbformat_minor": 5
}
